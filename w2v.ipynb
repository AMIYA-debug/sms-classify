{
 "cells": [
  {
   "cell_type": "code",
   "execution_count": 4,
   "id": "bbf935e1",
   "metadata": {},
   "outputs": [],
   "source": [
    "import numpy as np\n",
    "import pandas as pd\n",
    "import gensim\n",
    "\n",
    "from gensim.models import word2vec,keyedvectors\n",
    "import gensim.downloader as api\n",
    "# api= api.load(\"word2vec-google-news-300\", return_path=True)"
   ]
  },
  {
   "cell_type": "code",
   "execution_count": 5,
   "id": "5dd72b3c",
   "metadata": {},
   "outputs": [],
   "source": [
    "model=\"C:/Users/amiya/OneDrive/Documents/word2vecmodel/archive/GoogleNews-vectors-negative300.bin\"\n",
    "model_path=keyedvectors.load_word2vec_format(model,binary=True)"
   ]
  },
  {
   "cell_type": "code",
   "execution_count": null,
   "id": "8241db1c",
   "metadata": {},
   "outputs": [],
   "source": []
  }
 ],
 "metadata": {
  "kernelspec": {
   "display_name": "DL-new",
   "language": "python",
   "name": "python3"
  },
  "language_info": {
   "codemirror_mode": {
    "name": "ipython",
    "version": 3
   },
   "file_extension": ".py",
   "mimetype": "text/x-python",
   "name": "python",
   "nbconvert_exporter": "python",
   "pygments_lexer": "ipython3",
   "version": "3.11.13"
  }
 },
 "nbformat": 4,
 "nbformat_minor": 5
}
